{
 "cells": [
  {
   "cell_type": "code",
   "execution_count": 287,
   "metadata": {},
   "outputs": [],
   "source": [
    "import numpy as np\n",
    "import seaborn as sns\n",
    "import matplotlib.pyplot as plt\n",
    "from scipy.special import logsumexp"
   ]
  },
  {
   "cell_type": "code",
   "execution_count": 288,
   "metadata": {},
   "outputs": [],
   "source": [
    "class MixtureOfGaussiansCAVI(object):\n",
    "    def __init__(self, var_mu:float, K:int):\n",
    "        self._K = K\n",
    "        self._var_mu = var_mu\n",
    "        \n",
    "    def fit(self, x:np.ndarray):\n",
    "        N = x.size\n",
    "        m = np.random.rand(self._K) * 20\n",
    "        s_2 = np.random.rand(self._K) * 20\n",
    "        phi = np.random.rand(N, self._K)\n",
    "        i = 0\n",
    "        while i < 100:\n",
    "            phi = self._update_phi(x, m, s_2)\n",
    "            m = self._update_m(x, phi)\n",
    "            s_2 = self._update_s_2(phi)\n",
    "            print(self._elbo(x, m, s_2, phi))\n",
    "            i += 1\n",
    "        return (phi, m, s_2)\n",
    "    \n",
    "    ### Beginning ELBO Calculation ###\n",
    "    \n",
    "    def _elbo(self, x:np.ndarray, m:np.ndarray, s_2:np.ndarray, phi:np.ndarray) -> float:\n",
    "        return self._sum_E_log_p_mu_k(m, s_2) \\\n",
    "                + self._sum_E_log_p_x_i(x, phi, m, s_2) \\\n",
    "                - self._sum_E_log_q_c_i(phi) - self._sum_E_log_q_mu_k(s_2)\n",
    "    \n",
    "    def _sum_E_log_p_mu_k(self, m:np.ndarray, s_2:np.ndarray) -> float:\n",
    "        return -np.sum(s_2 + np.square(m)) / (2 * self._var_mu)\n",
    "    \n",
    "    def _sum_E_log_p_x_i(self, x:np.ndarray, phi:np.ndarray, m:np.ndarray, s_2:np.ndarray) -> float:\n",
    "        return np.dot(np.dot(phi, m), x) - np.sum(np.dot(phi, (s_2 + np.square(m))))\n",
    "    \n",
    "    def _sum_E_log_q_c_i(self, phi:np.ndarray) -> float:\n",
    "        return np.sum(np.apply_along_axis(lambda phi_i: np.dot(phi_i, np.log(phi_i)), 1, phi))\n",
    "    \n",
    "    def _sum_E_log_q_mu_k(self, s_2:np.ndarray) -> float:\n",
    "        return -0.5 * np.sum(np.log(s_2))\n",
    "                      \n",
    "    ### End ELBO Calculation ###\n",
    "    \n",
    "    ### Beginning Updates ###\n",
    "    \n",
    "    def _update_m(self, x:np.ndarray, phi:np.ndarray) -> np.ndarray:\n",
    "        numerator = np.dot(x, phi)\n",
    "        denominator = 1/self._var_mu + np.sum(phi, 0)\n",
    "        return numerator / denominator\n",
    "    \n",
    "    def _update_s_2(self, phi:np.ndarray) -> np.ndarray:\n",
    "        return 1 / (1 / self._var_mu + np.sum(phi, 0))\n",
    "    \n",
    "    def _update_phi(self, x:np.ndarray, m:np.ndarray, s_2:np.ndarray) -> np.ndarray:\n",
    "        t = np.outer(x, m) - (s_2 + m**2) / 2\n",
    "        s = logsumexp(t, axis=1)\n",
    "        return np.exp((t.T - s).T)\n",
    "\n",
    "    ### End Updates                  "
   ]
  },
  {
   "cell_type": "code",
   "execution_count": 289,
   "metadata": {},
   "outputs": [
    {
     "name": "stdout",
     "output_type": "stream",
     "text": [
      "262.4605000522049\n",
      "262.4602792291601\n",
      "262.4602792291601\n",
      "262.4602792291601\n",
      "262.4602792291601\n",
      "262.4602792291601\n",
      "262.4602792291601\n",
      "262.4602792291601\n",
      "262.4602792291601\n",
      "262.4602792291601\n",
      "262.4602792291601\n",
      "262.4602792291601\n",
      "262.4602792291601\n",
      "262.4602792291601\n",
      "262.4602792291601\n",
      "262.4602792291601\n",
      "262.4602792291601\n",
      "262.4602792291601\n",
      "262.4602792291601\n",
      "262.4602792291601\n",
      "262.4602792291601\n",
      "262.4602792291601\n",
      "262.4602792291601\n",
      "262.4602792291601\n",
      "262.4602792291601\n",
      "262.4602792291601\n",
      "262.4602792291601\n",
      "262.4602792291601\n",
      "262.4602792291601\n",
      "262.4602792291601\n",
      "262.4602792291601\n",
      "262.4602792291601\n",
      "262.4602792291601\n",
      "262.4602792291601\n",
      "262.4602792291601\n",
      "262.4602792291601\n",
      "262.4602792291601\n",
      "262.4602792291601\n",
      "262.4602792291601\n",
      "262.4602792291601\n",
      "262.4602792291601\n",
      "262.4602792291601\n",
      "262.4602792291601\n",
      "262.4602792291601\n",
      "262.4602792291601\n",
      "262.4602792291601\n",
      "262.4602792291601\n",
      "262.4602792291601\n",
      "262.4602792291601\n",
      "262.4602792291601\n",
      "262.4602792291601\n",
      "262.4602792291601\n",
      "262.4602792291601\n",
      "262.4602792291601\n",
      "262.4602792291601\n",
      "262.4602792291601\n",
      "262.4602792291601\n",
      "262.4602792291601\n",
      "262.4602792291601\n",
      "262.4602792291601\n",
      "262.4602792291601\n",
      "262.4602792291601\n",
      "262.4602792291601\n",
      "262.4602792291601\n",
      "262.4602792291601\n",
      "262.4602792291601\n",
      "262.4602792291601\n",
      "262.4602792291601\n",
      "262.4602792291601\n",
      "262.4602792291601\n",
      "262.4602792291601\n",
      "262.4602792291601\n",
      "262.4602792291601\n",
      "262.4602792291601\n",
      "262.4602792291601\n",
      "262.4602792291601\n",
      "262.4602792291601\n",
      "262.4602792291601\n",
      "262.4602792291601\n",
      "262.4602792291601\n",
      "262.4602792291601\n",
      "262.4602792291601\n",
      "262.4602792291601\n",
      "262.4602792291601\n",
      "262.4602792291601\n",
      "262.4602792291601\n",
      "262.4602792291601\n",
      "262.4602792291601\n",
      "262.4602792291601\n",
      "262.4602792291601\n",
      "262.4602792291601\n",
      "262.4602792291601\n",
      "262.4602792291601\n",
      "262.4602792291601\n",
      "262.4602792291601\n",
      "262.4602792291601\n",
      "262.4602792291601\n",
      "262.4602792291601\n",
      "262.4602792291601\n",
      "262.4602792291601\n"
     ]
    },
    {
     "data": {
      "text/plain": [
       "(array([[3.57858581e-029, 1.00000000e+000, 4.03072629e-017],\n",
       "        [1.00000000e+000, 2.78454494e-048, 2.16477839e-086],\n",
       "        [1.00000000e+000, 2.77472469e-124, 4.16059091e-184],\n",
       "        [1.00000000e+000, 2.76493907e-200, 7.99643825e-282]]),\n",
       " array([2.25000000e+01, 5.00000000e+00, 4.03072629e-16]),\n",
       " array([0.25, 0.5 , 1.  ]))"
      ]
     },
     "execution_count": 289,
     "metadata": {},
     "output_type": "execute_result"
    }
   ],
   "source": [
    "model = MixtureOfGaussiansCAVI(1, 3)\n",
    "model.fit(np.array([10, 20, 30, 40]))"
   ]
  },
  {
   "cell_type": "code",
   "execution_count": 290,
   "metadata": {},
   "outputs": [
    {
     "name": "stdout",
     "output_type": "stream",
     "text": [
      "250.58527922916008\n",
      "250.58527922916008\n",
      "250.58527922916008\n",
      "250.58527922916008\n",
      "250.58527922916008\n",
      "250.58527922916008\n",
      "250.58527922916008\n",
      "250.58527922916008\n",
      "250.58527922916008\n",
      "250.58527922916008\n",
      "250.58527922916008\n",
      "250.58527922916008\n",
      "250.58527922916008\n",
      "250.58527922916008\n",
      "250.58527922916008\n",
      "250.58527922916008\n",
      "250.58527922916008\n",
      "250.58527922916008\n",
      "250.58527922916008\n",
      "250.58527922916008\n",
      "250.58527922916008\n",
      "250.58527922916008\n",
      "250.58527922916008\n",
      "250.58527922916008\n",
      "250.58527922916008\n",
      "250.58527922916008\n",
      "250.58527922916008\n",
      "250.58527922916008\n",
      "250.58527922916008\n",
      "250.58527922916008\n",
      "250.58527922916008\n",
      "250.58527922916008\n",
      "250.58527922916008\n",
      "250.58527922916008\n",
      "250.58527922916008\n",
      "250.58527922916008\n",
      "250.58527922916008\n",
      "250.58527922916008\n",
      "250.58527922916008\n",
      "250.58527922916008\n",
      "250.58527922916008\n",
      "250.58527922916008\n",
      "250.58527922916008\n",
      "250.58527922916008\n",
      "250.58527922916008\n",
      "250.58527922916008\n",
      "250.58527922916008\n",
      "250.58527922916008\n",
      "250.58527922916008\n",
      "250.58527922916008\n",
      "250.58527922916008\n",
      "250.58527922916008\n",
      "250.58527922916008\n",
      "250.58527922916008\n",
      "250.58527922916008\n",
      "250.58527922916008\n",
      "250.58527922916008\n",
      "250.58527922916008\n",
      "250.58527922916008\n",
      "250.58527922916008\n",
      "250.58527922916008\n",
      "250.58527922916008\n",
      "250.58527922916008\n",
      "250.58527922916008\n",
      "250.58527922916008\n",
      "250.58527922916008\n",
      "250.58527922916008\n",
      "250.58527922916008\n",
      "250.58527922916008\n",
      "250.58527922916008\n",
      "250.58527922916008\n",
      "250.58527922916008\n",
      "250.58527922916008\n",
      "250.58527922916008\n",
      "250.58527922916008\n",
      "250.58527922916008\n",
      "250.58527922916008\n",
      "250.58527922916008\n",
      "250.58527922916008\n",
      "250.58527922916008\n",
      "250.58527922916008\n",
      "250.58527922916008\n",
      "250.58527922916008\n",
      "250.58527922916008\n",
      "250.58527922916008\n",
      "250.58527922916008\n",
      "250.58527922916008\n",
      "250.58527922916008\n",
      "250.58527922916008\n",
      "250.58527922916008\n",
      "250.58527922916008\n",
      "250.58527922916008\n",
      "250.58527922916008\n",
      "250.58527922916008\n",
      "250.58527922916008\n",
      "250.58527922916008\n",
      "250.58527922916008\n",
      "250.58527922916008\n",
      "250.58527922916008\n",
      "250.58527922916008\n"
     ]
    },
    {
     "data": {
      "text/plain": [
       "(array([[1.00000000e+000, 5.39835562e-101],\n",
       "        [5.40312573e-082, 1.00000000e+000],\n",
       "        [1.54120019e-177, 1.00000000e+000],\n",
       "        [4.39615541e-273, 1.00000000e+000]]),\n",
       " array([ 0.5, 22.5]),\n",
       " array([0.5 , 0.25]))"
      ]
     },
     "execution_count": 290,
     "metadata": {},
     "output_type": "execute_result"
    }
   ],
   "source": [
    "model = MixtureOfGaussiansCAVI(1, 2)\n",
    "model.fit(np.array([1, 20, 30, 40]))"
   ]
  },
  {
   "cell_type": "code",
   "execution_count": 291,
   "metadata": {},
   "outputs": [
    {
     "data": {
      "text/plain": [
       "array([-9.99872767,  0.70564457, -3.89501457])"
      ]
     },
     "execution_count": 291,
     "metadata": {},
     "output_type": "execute_result"
    }
   ],
   "source": [
    "num_components = 3\n",
    "mu_arr = np.random.choice(np.arange(-10, 10, 2),\n",
    "                          num_components) +\\\n",
    "         np.random.random(num_components)\n",
    "mu_arr"
   ]
  },
  {
   "cell_type": "code",
   "execution_count": 292,
   "metadata": {},
   "outputs": [],
   "source": [
    "SAMPLE = 1000"
   ]
  },
  {
   "cell_type": "code",
   "execution_count": 293,
   "metadata": {},
   "outputs": [],
   "source": [
    "X = np.random.normal(loc=mu_arr[0], scale=1, size=SAMPLE)\n",
    "for i, mu in enumerate(mu_arr[1:]):\n",
    "    X = np.append(X, np.random.normal(loc=mu, scale=1, size=SAMPLE))"
   ]
  },
  {
   "cell_type": "code",
   "execution_count": 294,
   "metadata": {},
   "outputs": [
    {
     "data": {
      "text/plain": [
       "<matplotlib.axes._subplots.AxesSubplot at 0x7f9b841152d0>"
      ]
     },
     "execution_count": 294,
     "metadata": {},
     "output_type": "execute_result"
    },
    {
     "data": {
      "image/png": "[encoded data removed]",
      "text/plain": [
       "<Figure size 1080x288 with 1 Axes>"
      ]
     },
     "metadata": {
      "needs_background": "light"
     },
     "output_type": "display_data"
    }
   ],
   "source": [
    "fig, ax = plt.subplots(figsize=(15, 4))\n",
    "sns.distplot(X[:SAMPLE], ax=ax, rug=True)\n",
    "sns.distplot(X[SAMPLE:SAMPLE*2], ax=ax, rug=True)\n",
    "sns.distplot(X[SAMPLE*2:], ax=ax, rug=True)"
   ]
  },
  {
   "cell_type": "code",
   "execution_count": 295,
   "metadata": {},
   "outputs": [
    {
     "name": "stdout",
     "output_type": "stream",
     "text": [
      "34.62872937565022\n",
      "469.9314953426282\n",
      "724.3147072877163\n",
      "589.6382034773214\n",
      "272.04985026420405\n",
      "127.48818539020746\n",
      "110.41055622842747\n",
      "109.50215253265591\n",
      "109.44566056735485\n",
      "109.43957933970147\n",
      "109.43862274893561\n",
      "109.4384537685075\n",
      "109.43842316736145\n",
      "109.43841759888328\n",
      "109.43841658477572\n",
      "109.43841640013939\n",
      "109.4384163663653\n",
      "109.43841636024096\n",
      "109.4384163592684\n",
      "109.43841635898379\n",
      "109.4384163590112\n",
      "109.43841635900039\n",
      "109.43841635907123\n",
      "109.4384163590418\n",
      "109.43841635902724\n",
      "109.43841635901266\n",
      "109.43841635902723\n",
      "109.43841635904177\n",
      "109.43841635904177\n",
      "109.43841635904177\n",
      "109.43841635904177\n",
      "109.43841635904177\n",
      "109.43841635904177\n",
      "109.43841635904177\n",
      "109.43841635904177\n",
      "109.43841635904177\n",
      "109.43841635904177\n",
      "109.43841635904177\n",
      "109.43841635904177\n",
      "109.43841635904177\n",
      "109.43841635904177\n",
      "109.43841635904177\n",
      "109.43841635904177\n",
      "109.43841635904177\n",
      "109.43841635904177\n",
      "109.43841635904177\n",
      "109.43841635904177\n",
      "109.43841635904177\n",
      "109.43841635904177\n",
      "109.43841635904177\n",
      "109.43841635904177\n",
      "109.43841635904177\n",
      "109.43841635904177\n",
      "109.43841635904177\n",
      "109.43841635904177\n",
      "109.43841635904177\n",
      "109.43841635904177\n",
      "109.43841635904177\n",
      "109.43841635904177\n",
      "109.43841635904177\n",
      "109.43841635904177\n",
      "109.43841635904177\n",
      "109.43841635904177\n",
      "109.43841635904177\n",
      "109.43841635904177\n",
      "109.43841635904177\n",
      "109.43841635904177\n",
      "109.43841635904177\n",
      "109.43841635904177\n",
      "109.43841635904177\n",
      "109.43841635904177\n",
      "109.43841635904177\n",
      "109.43841635904177\n",
      "109.43841635904177\n",
      "109.43841635904177\n",
      "109.43841635904177\n",
      "109.43841635904177\n",
      "109.43841635904177\n",
      "109.43841635904177\n",
      "109.43841635904177\n",
      "109.43841635904177\n",
      "109.43841635904177\n",
      "109.43841635904177\n",
      "109.43841635904177\n",
      "109.43841635904177\n",
      "109.43841635904177\n",
      "109.43841635904177\n",
      "109.43841635904177\n",
      "109.43841635904177\n",
      "109.43841635904177\n",
      "109.43841635904177\n",
      "109.43841635904177\n",
      "109.43841635904177\n",
      "109.43841635904177\n",
      "109.43841635904177\n",
      "109.43841635904177\n",
      "109.43841635904177\n",
      "109.43841635904177\n",
      "109.43841635904177\n",
      "109.43841635904177\n"
     ]
    },
    {
     "data": {
      "text/plain": [
       "array([ 0.7118547 , -9.97764305, -3.89864992])"
      ]
     },
     "execution_count": 295,
     "metadata": {},
     "output_type": "execute_result"
    }
   ],
   "source": [
    "model = MixtureOfGaussiansCAVI(1, 3)\n",
    "phi, m, s_2 = model.fit(X)\n",
    "m"
   ]
  },
  {
   "cell_type": "code",
   "execution_count": 296,
   "metadata": {},
   "outputs": [
    {
     "data": {
      "text/plain": [
       "<matplotlib.axes._subplots.AxesSubplot at 0x7f9b83e60b90>"
      ]
     },
     "execution_count": 296,
     "metadata": {},
     "output_type": "execute_result"
    },
    {
     "data": {
      "image/png": "[encoded data removed]",
      "text/plain": [
       "<Figure size 1080x288 with 1 Axes>"
      ]
     },
     "metadata": {
      "needs_background": "light"
     },
     "output_type": "display_data"
    }
   ],
   "source": [
    "fig, ax = plt.subplots(figsize=(15, 4))\n",
    "sns.distplot(X[:SAMPLE], ax=ax, hist=True, norm_hist=True)\n",
    "\n",
    "sns.distplot(np.random.normal(m[0], 1, SAMPLE), color='k', hist=False, kde=True)\n",
    "\n",
    "sns.distplot(X[SAMPLE:SAMPLE*2], ax=ax, hist=True, norm_hist=True)\n",
    "\n",
    "sns.distplot(np.random.normal(m[1], 1, SAMPLE), color='k', hist=False, kde=True)\n",
    "\n",
    "sns.distplot(X[SAMPLE*2:], ax=ax, hist=True, norm_hist=True)\n",
    "\n",
    "sns.distplot(np.random.normal(m[2], 1, SAMPLE), color='k', hist=False, kde=True)"
   ]
  },
  {
   "cell_type": "code",
   "execution_count": null,
   "metadata": {},
   "outputs": [],
   "source": []
  }
 ],
 "metadata": {
  "kernelspec": {
   "display_name": "Python 3",
   "language": "python",
   "name": "python3"
  },
  "language_info": {
   "codemirror_mode": {
    "name": "ipython",
    "version": 3
   },
   "file_extension": ".py",
   "mimetype": "text/x-python",
   "name": "python",
   "nbconvert_exporter": "python",
   "pygments_lexer": "ipython3",
   "version": "3.7.6"
  }
 },
 "nbformat": 4,
 "nbformat_minor": 4
}
